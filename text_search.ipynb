{
 "cells": [
  {
   "cell_type": "code",
   "execution_count": null,
   "id": "cf29e6cc",
   "metadata": {},
   "outputs": [],
   "source": [
    "import json\n",
    "data_f = open(\"data.json\",'r')\n",
    "cdc_kb= json.load(open(\"data.json\"))\n",
    "data_f.close()\n",
    "cdc_kb[0]"
   ]
  },
  {
   "cell_type": "code",
   "execution_count": null,
   "id": "b75aaffd",
   "metadata": {},
   "outputs": [],
   "source": [
    "import spacy\n",
    "nlp = spacy.load(\"en_core_web_sm\")"
   ]
  },
  {
   "cell_type": "code",
   "execution_count": null,
   "id": "f918fd13",
   "metadata": {},
   "outputs": [],
   "source": [
    "def text_tokenizer(text):\n",
    "    text_tokens=[]\n",
    "    lower_text = text.lower().replace(r'\\n','')\n",
    "    doc = nlp(lower_text)\n",
    "    data_clean = [w.lemma_ for w in doc if (\n",
    "        not w.is_stop and not w.is_punct and not w.like_num and not w.lemma_ in ['\\n',\" \"])]\n",
    "    text_tokens.extend(data_clean)\n",
    "    \n",
    "    return text_tokens"
   ]
  },
  {
   "cell_type": "code",
   "execution_count": null,
   "id": "48e75fae",
   "metadata": {},
   "outputs": [],
   "source": [
    "for item in cdc_kb:\n",
    "    item['tokenized_text']=text_tokenizer(item['text'])\n",
    "item['tokenized_text'][:5]"
   ]
  },
  {
   "cell_type": "code",
   "execution_count": null,
   "id": "93109774",
   "metadata": {},
   "outputs": [],
   "source": [
    "out_file = open(\"token_data.json\", \"w\")\n",
    "json.dump(cdc_kb, out_file, indent = 6) \n",
    "out_file.close()"
   ]
  },
  {
   "cell_type": "code",
   "execution_count": null,
   "id": "34474b44",
   "metadata": {},
   "outputs": [],
   "source": []
  }
 ],
 "metadata": {
  "kernelspec": {
   "display_name": "Python 3 (ipykernel)",
   "language": "python",
   "name": "python3"
  },
  "language_info": {
   "codemirror_mode": {
    "name": "ipython",
    "version": 3
   },
   "file_extension": ".py",
   "mimetype": "text/x-python",
   "name": "python",
   "nbconvert_exporter": "python",
   "pygments_lexer": "ipython3",
   "version": "3.9.15"
  }
 },
 "nbformat": 4,
 "nbformat_minor": 5
}
