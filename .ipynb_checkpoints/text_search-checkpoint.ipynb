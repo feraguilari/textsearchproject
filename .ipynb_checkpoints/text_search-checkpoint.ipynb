{
 "cells": [
  {
   "cell_type": "code",
   "execution_count": 1,
   "id": "cf29e6cc",
   "metadata": {},
   "outputs": [
    {
     "data": {
      "text/plain": [
       "{'title': 'Pandemic',\n",
       " 'text': 'A pandemic (from Greek πᾶν, pan, \"all\" and δῆμος, demos, \"people\") is an epidemic of an infectious disease that has spread across a large region, for instance multiple continents or worldwide, affecting a substantial number of people. A widespread endemic disease with a stable number of infected people is not a pandemic. Widespread endemic diseases with a stable number of infected people such as recurrences of seasonal influenza are generally excluded as they occur simultaneously in large regions of the globe rather than being spread worldwide.\\nThroughout human history, there have been a number of pandemics of diseases such as smallpox and tuberculosis. The most fatal pandemic in recorded history was the Black Death (also known as The Plague), which killed an estimated 75–200 million people in the 14th century. The term was not used yet but was for later pandemics including the 1918 influenza pandemic (Spanish flu). Current pandemics include COVID-19 (SARS-CoV-2) and HIV/AIDS.',\n",
       " 'url': 'https://en.wikipedia.org/wiki/Pandemic'}"
      ]
     },
     "execution_count": 1,
     "metadata": {},
     "output_type": "execute_result"
    }
   ],
   "source": [
    "import json\n",
    "data_f = open(\"data.json\",'r')\n",
    "cdc_kb= json.load(open(\"data.json\"))\n",
    "data_f.close()\n",
    "cdc_kb[0]"
   ]
  },
  {
   "cell_type": "code",
   "execution_count": 2,
   "id": "b75aaffd",
   "metadata": {},
   "outputs": [],
   "source": [
    "import spacy\n",
    "nlp = spacy.load(\"en_core_web_sm\")"
   ]
  },
  {
   "cell_type": "code",
   "execution_count": 3,
   "id": "f918fd13",
   "metadata": {},
   "outputs": [],
   "source": [
    "def text_tokenizer(text):\n",
    "    text_tokens=[]\n",
    "    lower_text = text.lower().replace(r'\\n','')\n",
    "    doc = nlp(lower_text)\n",
    "    assert doc.has_annotation(\"SENT_START\")\n",
    "    for sent in doc.sents:\n",
    "        data_clean = [w.lemma_ for w in sent if (\n",
    "            not w.is_stop and not w.is_punct and not w.like_num and not w.lemma_ in(text_tokens+['\\n',\" \"]))]\n",
    "        text_tokens.extend(data_clean)\n",
    "    return text_tokens"
   ]
  },
  {
   "cell_type": "code",
   "execution_count": 4,
   "id": "48e75fae",
   "metadata": {},
   "outputs": [
    {
     "data": {
      "text/plain": [
       "['virus', 'submicroscopic', 'infectious', 'agent', 'replicate']"
      ]
     },
     "execution_count": 4,
     "metadata": {},
     "output_type": "execute_result"
    }
   ],
   "source": [
    "for item in cdc_kb:\n",
    "    item['tokenized_text']=text_tokenizer(item['text'])\n",
    "item['tokenized_text'][:5]"
   ]
  },
  {
   "cell_type": "code",
   "execution_count": 5,
   "id": "93109774",
   "metadata": {},
   "outputs": [],
   "source": [
    "out_file = open(\"token_data.json\", \"w\")\n",
    "json.dump(cdc_kb, out_file, indent = 6) \n",
    "out_file.close()"
   ]
  },
  {
   "cell_type": "code",
   "execution_count": null,
   "id": "34474b44",
   "metadata": {},
   "outputs": [],
   "source": []
  }
 ],
 "metadata": {
  "kernelspec": {
   "display_name": "Python 3 (ipykernel)",
   "language": "python",
   "name": "python3"
  },
  "language_info": {
   "codemirror_mode": {
    "name": "ipython",
    "version": 3
   },
   "file_extension": ".py",
   "mimetype": "text/x-python",
   "name": "python",
   "nbconvert_exporter": "python",
   "pygments_lexer": "ipython3",
   "version": "3.9.15"
  }
 },
 "nbformat": 4,
 "nbformat_minor": 5
}
